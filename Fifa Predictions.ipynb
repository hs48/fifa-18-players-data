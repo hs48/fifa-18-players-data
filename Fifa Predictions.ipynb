{
 "cells": [
  {
   "cell_type": "code",
   "execution_count": 1,
   "metadata": {
    "scrolled": true
   },
   "outputs": [],
   "source": [
    "#import csv file and view\n",
    "import pandas as pd\n",
    "import matplotlib.pyplot as plt\n",
    "import seaborn as sns\n",
    "import numpy as np\n",
    "\n",
    "fifa = pd.read_csv(\"next_phase.csv\", index_col=0)\n",
    "pd.set_option(\"max_columns\", None)"
   ]
  },
  {
   "cell_type": "code",
   "execution_count": 2,
   "metadata": {},
   "outputs": [],
   "source": [
    "#features\n",
    "fifa2 =fifa.iloc[:, fifa.columns.get_loc('Crossing'): fifa.columns.get_loc('SlidingTackle')].copy()"
   ]
  },
  {
   "cell_type": "code",
   "execution_count": 3,
   "metadata": {},
   "outputs": [],
   "source": [
    "pos = fifa['Position'].unique().tolist()"
   ]
  },
  {
   "cell_type": "code",
   "execution_count": 4,
   "metadata": {},
   "outputs": [],
   "source": [
    "fifa2['Position'] = fifa['Position']\n",
    "fifa2['Wage(in k)'] = fifa['Wage']\n",
    "fifa2['Overall'] = fifa['Overall']"
   ]
  },
  {
   "cell_type": "markdown",
   "metadata": {},
   "source": [
    "#### \"Position\", \"Wage(in k)\", \"Overall\" are target variable"
   ]
  },
  {
   "cell_type": "code",
   "execution_count": 5,
   "metadata": {},
   "outputs": [
    {
     "data": {
      "text/html": [
       "<div>\n",
       "<style scoped>\n",
       "    .dataframe tbody tr th:only-of-type {\n",
       "        vertical-align: middle;\n",
       "    }\n",
       "\n",
       "    .dataframe tbody tr th {\n",
       "        vertical-align: top;\n",
       "    }\n",
       "\n",
       "    .dataframe thead th {\n",
       "        text-align: right;\n",
       "    }\n",
       "</style>\n",
       "<table border=\"1\" class=\"dataframe\">\n",
       "  <thead>\n",
       "    <tr style=\"text-align: right;\">\n",
       "      <th></th>\n",
       "      <th>Crossing</th>\n",
       "      <th>Finishing</th>\n",
       "      <th>HeadingAccuracy</th>\n",
       "      <th>ShortPassing</th>\n",
       "      <th>Volleys</th>\n",
       "      <th>Dribbling</th>\n",
       "      <th>Curve</th>\n",
       "      <th>FKAccuracy</th>\n",
       "      <th>LongPassing</th>\n",
       "      <th>BallControl</th>\n",
       "      <th>Acceleration</th>\n",
       "      <th>SprintSpeed</th>\n",
       "      <th>Agility</th>\n",
       "      <th>Reactions</th>\n",
       "      <th>Balance</th>\n",
       "      <th>ShotPower</th>\n",
       "      <th>Jumping</th>\n",
       "      <th>Stamina</th>\n",
       "      <th>Strength</th>\n",
       "      <th>LongShots</th>\n",
       "      <th>Aggression</th>\n",
       "      <th>Interceptions</th>\n",
       "      <th>Positioning</th>\n",
       "      <th>Vision</th>\n",
       "      <th>Penalties</th>\n",
       "      <th>Composure</th>\n",
       "      <th>Marking</th>\n",
       "      <th>StandingTackle</th>\n",
       "      <th>Position</th>\n",
       "      <th>Wage(in k)</th>\n",
       "      <th>Overall</th>\n",
       "    </tr>\n",
       "  </thead>\n",
       "  <tbody>\n",
       "    <tr>\n",
       "      <th>0</th>\n",
       "      <td>84.0</td>\n",
       "      <td>95.0</td>\n",
       "      <td>70.0</td>\n",
       "      <td>90.0</td>\n",
       "      <td>86.0</td>\n",
       "      <td>97.0</td>\n",
       "      <td>93.0</td>\n",
       "      <td>94.0</td>\n",
       "      <td>87.0</td>\n",
       "      <td>96.0</td>\n",
       "      <td>91.0</td>\n",
       "      <td>86.0</td>\n",
       "      <td>91.0</td>\n",
       "      <td>95.0</td>\n",
       "      <td>95.0</td>\n",
       "      <td>85.0</td>\n",
       "      <td>68.0</td>\n",
       "      <td>72.0</td>\n",
       "      <td>59.0</td>\n",
       "      <td>94.0</td>\n",
       "      <td>48.0</td>\n",
       "      <td>22.0</td>\n",
       "      <td>94.0</td>\n",
       "      <td>94.0</td>\n",
       "      <td>75.0</td>\n",
       "      <td>96.0</td>\n",
       "      <td>33.0</td>\n",
       "      <td>28.0</td>\n",
       "      <td>RF</td>\n",
       "      <td>565</td>\n",
       "      <td>94</td>\n",
       "    </tr>\n",
       "    <tr>\n",
       "      <th>1</th>\n",
       "      <td>84.0</td>\n",
       "      <td>94.0</td>\n",
       "      <td>89.0</td>\n",
       "      <td>81.0</td>\n",
       "      <td>87.0</td>\n",
       "      <td>88.0</td>\n",
       "      <td>81.0</td>\n",
       "      <td>76.0</td>\n",
       "      <td>77.0</td>\n",
       "      <td>94.0</td>\n",
       "      <td>89.0</td>\n",
       "      <td>91.0</td>\n",
       "      <td>87.0</td>\n",
       "      <td>96.0</td>\n",
       "      <td>70.0</td>\n",
       "      <td>95.0</td>\n",
       "      <td>95.0</td>\n",
       "      <td>88.0</td>\n",
       "      <td>79.0</td>\n",
       "      <td>93.0</td>\n",
       "      <td>63.0</td>\n",
       "      <td>29.0</td>\n",
       "      <td>95.0</td>\n",
       "      <td>82.0</td>\n",
       "      <td>85.0</td>\n",
       "      <td>95.0</td>\n",
       "      <td>28.0</td>\n",
       "      <td>31.0</td>\n",
       "      <td>ST</td>\n",
       "      <td>405</td>\n",
       "      <td>94</td>\n",
       "    </tr>\n",
       "    <tr>\n",
       "      <th>2</th>\n",
       "      <td>79.0</td>\n",
       "      <td>87.0</td>\n",
       "      <td>62.0</td>\n",
       "      <td>84.0</td>\n",
       "      <td>84.0</td>\n",
       "      <td>96.0</td>\n",
       "      <td>88.0</td>\n",
       "      <td>87.0</td>\n",
       "      <td>78.0</td>\n",
       "      <td>95.0</td>\n",
       "      <td>94.0</td>\n",
       "      <td>90.0</td>\n",
       "      <td>96.0</td>\n",
       "      <td>94.0</td>\n",
       "      <td>84.0</td>\n",
       "      <td>80.0</td>\n",
       "      <td>61.0</td>\n",
       "      <td>81.0</td>\n",
       "      <td>49.0</td>\n",
       "      <td>82.0</td>\n",
       "      <td>56.0</td>\n",
       "      <td>36.0</td>\n",
       "      <td>89.0</td>\n",
       "      <td>87.0</td>\n",
       "      <td>81.0</td>\n",
       "      <td>94.0</td>\n",
       "      <td>27.0</td>\n",
       "      <td>24.0</td>\n",
       "      <td>LW</td>\n",
       "      <td>290</td>\n",
       "      <td>92</td>\n",
       "    </tr>\n",
       "    <tr>\n",
       "      <th>3</th>\n",
       "      <td>17.0</td>\n",
       "      <td>13.0</td>\n",
       "      <td>21.0</td>\n",
       "      <td>50.0</td>\n",
       "      <td>13.0</td>\n",
       "      <td>18.0</td>\n",
       "      <td>21.0</td>\n",
       "      <td>19.0</td>\n",
       "      <td>51.0</td>\n",
       "      <td>42.0</td>\n",
       "      <td>57.0</td>\n",
       "      <td>58.0</td>\n",
       "      <td>60.0</td>\n",
       "      <td>90.0</td>\n",
       "      <td>43.0</td>\n",
       "      <td>31.0</td>\n",
       "      <td>67.0</td>\n",
       "      <td>43.0</td>\n",
       "      <td>64.0</td>\n",
       "      <td>12.0</td>\n",
       "      <td>38.0</td>\n",
       "      <td>30.0</td>\n",
       "      <td>12.0</td>\n",
       "      <td>68.0</td>\n",
       "      <td>40.0</td>\n",
       "      <td>68.0</td>\n",
       "      <td>15.0</td>\n",
       "      <td>21.0</td>\n",
       "      <td>GK</td>\n",
       "      <td>260</td>\n",
       "      <td>91</td>\n",
       "    </tr>\n",
       "    <tr>\n",
       "      <th>4</th>\n",
       "      <td>93.0</td>\n",
       "      <td>82.0</td>\n",
       "      <td>55.0</td>\n",
       "      <td>92.0</td>\n",
       "      <td>82.0</td>\n",
       "      <td>86.0</td>\n",
       "      <td>85.0</td>\n",
       "      <td>83.0</td>\n",
       "      <td>91.0</td>\n",
       "      <td>91.0</td>\n",
       "      <td>78.0</td>\n",
       "      <td>76.0</td>\n",
       "      <td>79.0</td>\n",
       "      <td>91.0</td>\n",
       "      <td>77.0</td>\n",
       "      <td>91.0</td>\n",
       "      <td>63.0</td>\n",
       "      <td>90.0</td>\n",
       "      <td>75.0</td>\n",
       "      <td>91.0</td>\n",
       "      <td>76.0</td>\n",
       "      <td>61.0</td>\n",
       "      <td>87.0</td>\n",
       "      <td>94.0</td>\n",
       "      <td>79.0</td>\n",
       "      <td>88.0</td>\n",
       "      <td>68.0</td>\n",
       "      <td>58.0</td>\n",
       "      <td>RCM</td>\n",
       "      <td>355</td>\n",
       "      <td>91</td>\n",
       "    </tr>\n",
       "  </tbody>\n",
       "</table>\n",
       "</div>"
      ],
      "text/plain": [
       "   Crossing  Finishing  HeadingAccuracy  ShortPassing  Volleys  Dribbling  \\\n",
       "0      84.0       95.0             70.0          90.0     86.0       97.0   \n",
       "1      84.0       94.0             89.0          81.0     87.0       88.0   \n",
       "2      79.0       87.0             62.0          84.0     84.0       96.0   \n",
       "3      17.0       13.0             21.0          50.0     13.0       18.0   \n",
       "4      93.0       82.0             55.0          92.0     82.0       86.0   \n",
       "\n",
       "   Curve  FKAccuracy  LongPassing  BallControl  Acceleration  SprintSpeed  \\\n",
       "0   93.0        94.0         87.0         96.0          91.0         86.0   \n",
       "1   81.0        76.0         77.0         94.0          89.0         91.0   \n",
       "2   88.0        87.0         78.0         95.0          94.0         90.0   \n",
       "3   21.0        19.0         51.0         42.0          57.0         58.0   \n",
       "4   85.0        83.0         91.0         91.0          78.0         76.0   \n",
       "\n",
       "   Agility  Reactions  Balance  ShotPower  Jumping  Stamina  Strength  \\\n",
       "0     91.0       95.0     95.0       85.0     68.0     72.0      59.0   \n",
       "1     87.0       96.0     70.0       95.0     95.0     88.0      79.0   \n",
       "2     96.0       94.0     84.0       80.0     61.0     81.0      49.0   \n",
       "3     60.0       90.0     43.0       31.0     67.0     43.0      64.0   \n",
       "4     79.0       91.0     77.0       91.0     63.0     90.0      75.0   \n",
       "\n",
       "   LongShots  Aggression  Interceptions  Positioning  Vision  Penalties  \\\n",
       "0       94.0        48.0           22.0         94.0    94.0       75.0   \n",
       "1       93.0        63.0           29.0         95.0    82.0       85.0   \n",
       "2       82.0        56.0           36.0         89.0    87.0       81.0   \n",
       "3       12.0        38.0           30.0         12.0    68.0       40.0   \n",
       "4       91.0        76.0           61.0         87.0    94.0       79.0   \n",
       "\n",
       "   Composure  Marking  StandingTackle Position  Wage(in k)  Overall  \n",
       "0       96.0     33.0            28.0       RF         565       94  \n",
       "1       95.0     28.0            31.0       ST         405       94  \n",
       "2       94.0     27.0            24.0       LW         290       92  \n",
       "3       68.0     15.0            21.0       GK         260       91  \n",
       "4       88.0     68.0            58.0      RCM         355       91  "
      ]
     },
     "execution_count": 5,
     "metadata": {},
     "output_type": "execute_result"
    }
   ],
   "source": [
    "fifa2.head()"
   ]
  },
  {
   "cell_type": "code",
   "execution_count": 6,
   "metadata": {
    "scrolled": false
   },
   "outputs": [
    {
     "data": {
      "text/plain": [
       "Crossing           0\n",
       "Finishing          0\n",
       "HeadingAccuracy    0\n",
       "ShortPassing       0\n",
       "Volleys            0\n",
       "Dribbling          0\n",
       "Curve              0\n",
       "FKAccuracy         0\n",
       "LongPassing        0\n",
       "BallControl        0\n",
       "Acceleration       0\n",
       "SprintSpeed        0\n",
       "Agility            0\n",
       "Reactions          0\n",
       "Balance            0\n",
       "ShotPower          0\n",
       "Jumping            0\n",
       "Stamina            0\n",
       "Strength           0\n",
       "LongShots          0\n",
       "Aggression         0\n",
       "Interceptions      0\n",
       "Positioning        0\n",
       "Vision             0\n",
       "Penalties          0\n",
       "Composure          0\n",
       "Marking            0\n",
       "StandingTackle     0\n",
       "Position           0\n",
       "Wage(in k)         0\n",
       "Overall            0\n",
       "dtype: int64"
      ]
     },
     "execution_count": 6,
     "metadata": {},
     "output_type": "execute_result"
    }
   ],
   "source": [
    "#check for NULL entries\n",
    "fifa2.isnull().sum()"
   ]
  },
  {
   "cell_type": "code",
   "execution_count": 7,
   "metadata": {},
   "outputs": [
    {
     "data": {
      "text/plain": [
       "[Text(0.5, 1.0, 'data correlation')]"
      ]
     },
     "execution_count": 7,
     "metadata": {},
     "output_type": "execute_result"
    },
    {
     "data": {
      "image/png": "[encoded data removed]",
      "text/plain": [
       "<Figure size 720x504 with 2 Axes>"
      ]
     },
     "metadata": {
      "needs_background": "light"
     },
     "output_type": "display_data"
    }
   ],
   "source": [
    "#visualization of data correlation\n",
    "fig, axis = plt.subplots(figsize=(10,7))\n",
    "sns.heatmap(fifa2.corr()).set(title=\"data correlation\")"
   ]
  },
  {
   "cell_type": "code",
   "execution_count": 8,
   "metadata": {},
   "outputs": [
    {
     "data": {
      "text/plain": [
       "array([[-1.44584110e+02, -8.09388797e+01,  7.83078505e+00, ...,\n",
       "        -1.48910879e+01, -7.09244619e+00,  3.34772661e+00],\n",
       "       [-1.40765965e+02, -6.07092083e+01,  3.55053847e+01, ...,\n",
       "        -5.59405256e-01, -7.96937913e+00,  3.55785917e+00],\n",
       "       [-1.31021499e+02, -7.47163657e+01, -1.30984872e+00, ...,\n",
       "         8.08218711e-02, -7.03848501e+00, -3.33348278e+00],\n",
       "       ...,\n",
       "       [ 5.73352620e+01, -4.89038004e+01, -7.75110634e+00, ...,\n",
       "         1.08126994e+00,  7.19922041e+00, -2.36298598e+00],\n",
       "       [ 4.96186044e+01, -4.86019644e+01, -5.77747970e+00, ...,\n",
       "        -4.59757869e+00,  1.01848149e+01,  1.07092966e+01],\n",
       "       [ 4.86860128e+01,  3.73984259e+00, -5.90312228e+00, ...,\n",
       "        -1.83001996e+00,  3.30528477e+00,  3.91961532e+00]])"
      ]
     },
     "execution_count": 8,
     "metadata": {},
     "output_type": "execute_result"
    }
   ],
   "source": [
    "#reduce the dimention of features\n",
    "from sklearn.decomposition import PCA\n",
    "pca = PCA(n_components=20)\n",
    "data = pca.fit_transform(fifa2.values[:,:-3])\n",
    "data"
   ]
  },
  {
   "cell_type": "markdown",
   "metadata": {},
   "source": [
    "### prediction of \"Position\" using k-nearest neighbors algorithm"
   ]
  },
  {
   "cell_type": "code",
   "execution_count": 9,
   "metadata": {},
   "outputs": [
    {
     "name": "stdout",
     "output_type": "stream",
     "text": [
      "Training F1_score:  0.5664184661206255\n",
      "Test F1_score:  0.4985481349117713\n"
     ]
    }
   ],
   "source": [
    "from sklearn.neighbors import KNeighborsClassifier\n",
    "from sklearn.metrics import f1_score\n",
    "from sklearn.model_selection import train_test_split\n",
    "x_train, x_test, y_train, y_test = train_test_split(data, fifa2['Position'], stratify=fifa2['Position'])\n",
    "knn = KNeighborsClassifier(n_neighbors=13)\n",
    "knn.fit(x_train, y_train)\n",
    "pred = knn.predict(x_train)\n",
    "pred_test = knn.predict(x_test )\n",
    "tr_sc = f1_score(y_train, pred, average='micro')\n",
    "te_sc = f1_score(y_test, pred_test, average='micro')\n",
    "print(\"Training F1_score: \", tr_sc)\n",
    "print(\"Test F1_score: \", te_sc)"
   ]
  },
  {
   "cell_type": "markdown",
   "metadata": {},
   "source": [
    "### prediction of \"Position\" using deep learning"
   ]
  },
  {
   "cell_type": "code",
   "execution_count": 10,
   "metadata": {},
   "outputs": [],
   "source": [
    "#Neural network module\n",
    "from keras.models import Sequential \n",
    "from keras.layers import Dense,Activation,Dropout \n",
    "from keras.utils import np_utils"
   ]
  },
  {
   "cell_type": "code",
   "execution_count": 11,
   "metadata": {},
   "outputs": [],
   "source": [
    "#replace categorical varible with numerical values\n",
    "fifa2['Position'] = fifa2['Position'].replace(pos, [i for i in range(len(pos))])"
   ]
  },
  {
   "cell_type": "code",
   "execution_count": 12,
   "metadata": {},
   "outputs": [],
   "source": [
    "data = fifa2.values[:,:-3].astype(np.float32)"
   ]
  },
  {
   "cell_type": "code",
   "execution_count": 13,
   "metadata": {},
   "outputs": [],
   "source": [
    "X_train, X_test, y_train, y_test = train_test_split(data, fifa2['Position'], random_state=21, stratify=fifa2['Position'])"
   ]
  },
  {
   "cell_type": "code",
   "execution_count": 14,
   "metadata": {},
   "outputs": [
    {
     "name": "stdout",
     "output_type": "stream",
     "text": [
      "Shape of y_train (13430, 27)\n",
      "Shape of y_test (4477, 27)\n"
     ]
    }
   ],
   "source": [
    "#encode target variable\n",
    "y_train=np_utils.to_categorical(y_train,num_classes=len(pos))\n",
    "y_test=np_utils.to_categorical(y_test,num_classes=len(pos))\n",
    "print(\"Shape of y_train\",y_train.shape)\n",
    "print(\"Shape of y_test\",y_test.shape)"
   ]
  },
  {
   "cell_type": "code",
   "execution_count": 15,
   "metadata": {},
   "outputs": [],
   "source": [
    "#Define Keras Model\n",
    "model=Sequential()\n",
    "model.add(Dense(1000,activation='relu'))\n",
    "model.add(Dense(500,activation='relu'))\n",
    "model.add(Dense(300,activation='relu'))\n",
    "model.add(Dropout(0.2))\n",
    "model.add(Dense(len(pos),activation='softmax'))\n",
    "model.compile(loss='categorical_crossentropy',optimizer='adam',metrics=['accuracy'])"
   ]
  },
  {
   "cell_type": "code",
   "execution_count": 16,
   "metadata": {},
   "outputs": [
    {
     "name": "stdout",
     "output_type": "stream",
     "text": [
      "Epoch 1/10\n",
      "2686/2686 [==============================] - 28s 10ms/step - loss: 1.9597 - accuracy: 0.4270 - val_loss: 1.5014 - val_accuracy: 0.5106\n",
      "Epoch 2/10\n",
      "2686/2686 [==============================] - 26s 10ms/step - loss: 1.5628 - accuracy: 0.4825 - val_loss: 1.5379 - val_accuracy: 0.4948\n",
      "Epoch 3/10\n",
      "2686/2686 [==============================] - 28s 10ms/step - loss: 1.5238 - accuracy: 0.4904 - val_loss: 1.4564 - val_accuracy: 0.5162\n",
      "Epoch 4/10\n",
      "2686/2686 [==============================] - 28s 10ms/step - loss: 1.4912 - accuracy: 0.4983 - val_loss: 1.4524 - val_accuracy: 0.5008\n",
      "Epoch 5/10\n",
      "2686/2686 [==============================] - 25s 9ms/step - loss: 1.4787 - accuracy: 0.5017 - val_loss: 1.4700 - val_accuracy: 0.5028\n",
      "Epoch 6/10\n",
      "2686/2686 [==============================] - 27s 10ms/step - loss: 1.4790 - accuracy: 0.4998 - val_loss: 1.4254 - val_accuracy: 0.5052\n",
      "Epoch 7/10\n",
      "2686/2686 [==============================] - 27s 10ms/step - loss: 1.4639 - accuracy: 0.5060 - val_loss: 1.4055 - val_accuracy: 0.5180\n",
      "Epoch 8/10\n",
      "2686/2686 [==============================] - 26s 10ms/step - loss: 1.4552 - accuracy: 0.4969 - val_loss: 1.4566 - val_accuracy: 0.5064\n",
      "Epoch 9/10\n",
      "2686/2686 [==============================] - 26s 10ms/step - loss: 1.4509 - accuracy: 0.5040 - val_loss: 1.4405 - val_accuracy: 0.5093\n",
      "Epoch 10/10\n",
      "2686/2686 [==============================] - 25s 9ms/step - loss: 1.4515 - accuracy: 0.5108 - val_loss: 1.4251 - val_accuracy: 0.5030\n"
     ]
    },
    {
     "data": {
      "text/plain": [
       "<keras.callbacks.History at 0x22710264b80>"
      ]
     },
     "execution_count": 16,
     "metadata": {},
     "output_type": "execute_result"
    }
   ],
   "source": [
    "#fit the model with training data\n",
    "model.fit(X_train,y_train,validation_data=(X_test,y_test),batch_size=5,epochs=10,verbose=1)"
   ]
  },
  {
   "cell_type": "code",
   "execution_count": 17,
   "metadata": {},
   "outputs": [
    {
     "name": "stdout",
     "output_type": "stream",
     "text": [
      "F1_score of the test set:  0.5030154121063212\n"
     ]
    }
   ],
   "source": [
    "#prediction on the test set\n",
    "prediction=model.predict(X_test)\n",
    "length=len(prediction)\n",
    "y_label=np.argmax(y_test,axis=1)\n",
    "predict_label=np.argmax(prediction,axis=1)\n",
    "\n",
    "score = f1_score(y_label, predict_label, average='micro')\n",
    "print(\"F1_score of the test set: \",score )"
   ]
  },
  {
   "cell_type": "markdown",
   "metadata": {},
   "source": [
    "### prediction of \"Overall\" using Decision Tree"
   ]
  },
  {
   "cell_type": "code",
   "execution_count": 18,
   "metadata": {},
   "outputs": [
    {
     "name": "stdout",
     "output_type": "stream",
     "text": [
      "Training accuracy score  0.928816710377199\n",
      "Test accuracy score:  0.8660212971125673\n",
      "rmse of test set:  2.5133712787163165\n"
     ]
    }
   ],
   "source": [
    "x_train, x_test, y_train, y_test = train_test_split(data, fifa2['Overall'])\n",
    "from sklearn.tree import DecisionTreeRegressor\n",
    "from sklearn.metrics import mean_squared_error\n",
    "dt = DecisionTreeRegressor(max_depth=10)\n",
    "dt.fit(x_train, y_train)\n",
    "y_pred = dt.predict(x_test)\n",
    "print(\"Training accuracy score \", dt.score(x_train, y_train))\n",
    "print(\"Test accuracy score: \", dt.score(x_test, y_test))\n",
    "score = mean_squared_error(y_test, y_pred, squared=False)\n",
    "print(\"rmse of test set: \", score)"
   ]
  },
  {
   "cell_type": "markdown",
   "metadata": {},
   "source": [
    "### prediction of \"Wage(in k)\" using LinearRegression"
   ]
  },
  {
   "cell_type": "code",
   "execution_count": 19,
   "metadata": {},
   "outputs": [],
   "source": [
    "#split the data into training and test set\n",
    "x_train, x_test, y_train, y_test = train_test_split(data, fifa2['Wage(in k)'])"
   ]
  },
  {
   "cell_type": "code",
   "execution_count": 20,
   "metadata": {},
   "outputs": [
    {
     "name": "stdout",
     "output_type": "stream",
     "text": [
      "R2 Score of test set:  0.2685067464393175\n",
      "rmse of training set:  18.491399123652425\n",
      "rmse of test set:  19.87479377185893\n"
     ]
    }
   ],
   "source": [
    "#prediction using Linear Regression\n",
    "from sklearn.linear_model import LinearRegression\n",
    "from sklearn.metrics import r2_score\n",
    "lr = LinearRegression()\n",
    "lr.fit(x_train, y_train)\n",
    "pred = lr.predict(x_train)\n",
    "pred_test = lr.predict(x_test)\n",
    "print(\"R2 Score of test set: \", r2_score(y_test, pred_test))\n",
    "sc1 = mean_squared_error(y_train, pred, squared=False)\n",
    "sc2 = mean_squared_error(y_test, pred_test, squared=False)\n",
    "print(\"rmse of training set: \", sc1)\n",
    "print(\"rmse of test set: \", sc2)"
   ]
  },
  {
   "cell_type": "markdown",
   "metadata": {},
   "source": [
    "### prediction of \"Wage(in k)\" using Deep learning"
   ]
  },
  {
   "cell_type": "code",
   "execution_count": 21,
   "metadata": {},
   "outputs": [],
   "source": [
    "import tensorflow as tf\n",
    "from tensorflow.keras import Model\n",
    "from tensorflow.keras import Sequential\n",
    "from tensorflow.keras.optimizers import Adam\n",
    "from sklearn.preprocessing import StandardScaler\n",
    "from tensorflow.keras.layers import Dense, Dropout\n",
    "from tensorflow.keras.metrics import RootMeanSquaredError "
   ]
  },
  {
   "cell_type": "code",
   "execution_count": 22,
   "metadata": {},
   "outputs": [],
   "source": [
    "standard_scaler = StandardScaler()\n",
    "x_train_scaled = pd.DataFrame(\n",
    "      standard_scaler.fit_transform(x_train)\n",
    "  )\n",
    "x_test_scaled = pd.DataFrame(\n",
    "      standard_scaler.transform(x_test)\n",
    "  )"
   ]
  },
  {
   "cell_type": "code",
   "execution_count": 23,
   "metadata": {},
   "outputs": [],
   "source": [
    "hidden_units1 = 160*2\n",
    "hidden_units2 = 480*2\n",
    "hidden_units3 = 256*2\n",
    "learning_rate = 0.01\n",
    "# Creating model using the Sequential in tensorflow\n",
    "def build_model_using_sequential():\n",
    "  model = Sequential([\n",
    "    Dense(hidden_units1, kernel_initializer='normal', activation='relu'),\n",
    "    Dropout(0.2),\n",
    "    Dense(hidden_units2, kernel_initializer='normal', activation='relu'),\n",
    "    Dropout(0.2),\n",
    "    Dense(hidden_units3, kernel_initializer='normal', activation='relu'),\n",
    "    Dense(1, kernel_initializer='normal', activation='linear')\n",
    "  ])\n",
    "  return model\n",
    "# build the model\n",
    "model = build_model_using_sequential()"
   ]
  },
  {
   "cell_type": "code",
   "execution_count": 24,
   "metadata": {},
   "outputs": [
    {
     "name": "stdout",
     "output_type": "stream",
     "text": [
      "Epoch 1/20\n",
      "168/168 [==============================] - 3s 15ms/step - loss: 322.0677 - root_mean_squared_error: 17.9462 - val_loss: 192.9581 - val_root_mean_squared_error: 13.8909\n",
      "Epoch 2/20\n",
      "168/168 [==============================] - 3s 15ms/step - loss: 276.5728 - root_mean_squared_error: 16.6305 - val_loss: 173.7354 - val_root_mean_squared_error: 13.1809\n",
      "Epoch 3/20\n",
      "168/168 [==============================] - 4s 22ms/step - loss: 290.2038 - root_mean_squared_error: 17.0354 - val_loss: 244.3061 - val_root_mean_squared_error: 15.6303\n",
      "Epoch 4/20\n",
      "168/168 [==============================] - 3s 20ms/step - loss: 287.8371 - root_mean_squared_error: 16.9658 - val_loss: 168.7816 - val_root_mean_squared_error: 12.9916\n",
      "Epoch 5/20\n",
      "168/168 [==============================] - 3s 19ms/step - loss: 255.3721 - root_mean_squared_error: 15.9804 - val_loss: 181.2042 - val_root_mean_squared_error: 13.4612\n",
      "Epoch 6/20\n",
      "168/168 [==============================] - 3s 15ms/step - loss: 246.6115 - root_mean_squared_error: 15.7039 - val_loss: 156.8935 - val_root_mean_squared_error: 12.5257\n",
      "Epoch 7/20\n",
      "168/168 [==============================] - 3s 15ms/step - loss: 269.3731 - root_mean_squared_error: 16.4126 - val_loss: 447.3776 - val_root_mean_squared_error: 21.1513\n",
      "Epoch 8/20\n",
      "168/168 [==============================] - 4s 22ms/step - loss: 260.3562 - root_mean_squared_error: 16.1356 - val_loss: 275.4651 - val_root_mean_squared_error: 16.5971\n",
      "Epoch 9/20\n",
      "168/168 [==============================] - 4s 22ms/step - loss: 263.6586 - root_mean_squared_error: 16.2376 - val_loss: 171.8904 - val_root_mean_squared_error: 13.1107\n",
      "Epoch 10/20\n",
      "168/168 [==============================] - 3s 18ms/step - loss: 254.6330 - root_mean_squared_error: 15.9572 - val_loss: 163.9927 - val_root_mean_squared_error: 12.8060\n",
      "Epoch 11/20\n",
      "168/168 [==============================] - 3s 20ms/step - loss: 242.7303 - root_mean_squared_error: 15.5798 - val_loss: 166.1617 - val_root_mean_squared_error: 12.8904\n",
      "Epoch 12/20\n",
      "168/168 [==============================] - 3s 19ms/step - loss: 240.3739 - root_mean_squared_error: 15.5040 - val_loss: 158.2878 - val_root_mean_squared_error: 12.5812\n",
      "Epoch 13/20\n",
      "168/168 [==============================] - 3s 15ms/step - loss: 238.3745 - root_mean_squared_error: 15.4394 - val_loss: 195.6311 - val_root_mean_squared_error: 13.9868\n",
      "Epoch 14/20\n",
      "168/168 [==============================] - 3s 17ms/step - loss: 243.1075 - root_mean_squared_error: 15.5919 - val_loss: 247.3635 - val_root_mean_squared_error: 15.7278\n",
      "Epoch 15/20\n",
      "168/168 [==============================] - 3s 15ms/step - loss: 246.1942 - root_mean_squared_error: 15.6906 - val_loss: 174.0807 - val_root_mean_squared_error: 13.1940\n",
      "Epoch 16/20\n",
      "168/168 [==============================] - 2s 15ms/step - loss: 235.3757 - root_mean_squared_error: 15.3420 - val_loss: 157.1564 - val_root_mean_squared_error: 12.5362\n",
      "Epoch 17/20\n",
      "168/168 [==============================] - 3s 15ms/step - loss: 210.2144 - root_mean_squared_error: 14.4988 - val_loss: 206.9898 - val_root_mean_squared_error: 14.3871\n",
      "Epoch 18/20\n",
      "168/168 [==============================] - 3s 15ms/step - loss: 234.4525 - root_mean_squared_error: 15.3118 - val_loss: 217.2314 - val_root_mean_squared_error: 14.7388\n",
      "Epoch 19/20\n",
      "168/168 [==============================] - 3s 15ms/step - loss: 235.9208 - root_mean_squared_error: 15.3597 - val_loss: 175.4839 - val_root_mean_squared_error: 13.2470\n",
      "Epoch 20/20\n",
      "168/168 [==============================] - 3s 17ms/step - loss: 223.9111 - root_mean_squared_error: 14.9637 - val_loss: 178.0311 - val_root_mean_squared_error: 13.3428\n"
     ]
    }
   ],
   "source": [
    "\n",
    "model.compile(\n",
    "    loss='mse', \n",
    "    optimizer=Adam(learning_rate=learning_rate), \n",
    "    metrics=[RootMeanSquaredError()]\n",
    ")\n",
    "# train the model\n",
    "history = model.fit(\n",
    "    x_train_scaled.values, \n",
    "    y_train.values, \n",
    "    epochs=20, \n",
    "    batch_size=64,\n",
    "    validation_split=0.2\n",
    ")"
   ]
  },
  {
   "cell_type": "code",
   "execution_count": 25,
   "metadata": {},
   "outputs": [],
   "source": [
    "predictions = model.predict(x_test_scaled)"
   ]
  },
  {
   "cell_type": "code",
   "execution_count": 26,
   "metadata": {},
   "outputs": [
    {
     "name": "stdout",
     "output_type": "stream",
     "text": [
      "test set R2 accuracy:  0.5611279894742247\n",
      "test set root mean squared error:  15.394529157449803\n"
     ]
    }
   ],
   "source": [
    "from keras import backend as K\n",
    "def root_mean_squared_error(y_true, y_pred):\n",
    "        return K.sqrt(K.mean(K.square(y_pred - y_true))) \n",
    "sc = K.eval(root_mean_squared_error(y_test, predictions.reshape(-1)))\n",
    "print(\"test set R2 accuracy: \", r2_score(y_test, predictions.reshape(-1)))\n",
    "print(\"test set root mean squared error: \", sc)"
   ]
  }
 ],
 "metadata": {
  "kernelspec": {
   "display_name": "Python 3",
   "language": "python",
   "name": "python3"
  },
  "language_info": {
   "codemirror_mode": {
    "name": "ipython",
    "version": 3
   },
   "file_extension": ".py",
   "mimetype": "text/x-python",
   "name": "python",
   "nbconvert_exporter": "python",
   "pygments_lexer": "ipython3",
   "version": "3.8.3"
  }
 },
 "nbformat": 4,
 "nbformat_minor": 4
}
